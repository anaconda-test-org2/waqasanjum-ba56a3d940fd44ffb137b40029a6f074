{
 "cells": [
  {
   "cell_type": "markdown",
   "metadata": {},
   "source": [
    "<img src='img/landscape_hv_nx.png' width='80%'>"
   ]
  },
  {
   "cell_type": "markdown",
   "metadata": {},
   "source": [
    "# HoloViz"
   ]
  },
  {
   "cell_type": "markdown",
   "metadata": {},
   "source": [
    "<img src='img/principles.png'>"
   ]
  },
  {
   "cell_type": "markdown",
   "metadata": {},
   "source": [
    "<img src='img/holoviz.png'>\n",
    "\n",
    "* **Panel**: Assembling objects from many different libraries into a layout or app, whether in a Jupyter notebook or in a standalone servable dashboard\n",
    "* **hvPlot**: Quickly return interactive Bokeh-based HoloViews or GeoViews objects from Pandas, Xarray, or other data structures\n",
    "* **HoloViews**: Declarative objects for instantly visualizable data, building Bokeh plots from convenient high-level specifications\n",
    "* **GeoViews**: Visualizable geographic data that that can be mixed and matched with HoloViews objects\n",
    "* **Datashader**: Rasterizing huge datasets quickly as fixed-size images\n",
    "* **Param**: Declaring user-relevant parameters, making it simple to work with widgets inside and outside of a notebook context\n",
    "* **Colorcet**: Perceptually accurate continuous and categorical colormaps for any viz tool"
   ]
  },
  {
   "cell_type": "markdown",
   "metadata": {},
   "source": [
    "*Click the buttons below to begin the tutorial.*\n",
    "\n",
    "<a href='1-HvPlot.ipynb' class='btn btn-primary btn-lg'>Pandas Plotting: HvPlot</a>\n",
    "<a href='2-LargeData_Streaming.ipynb' class='btn btn-primary btn-lg'>Large Data and Streaming</a>\n",
    "<a href='3-Interactivity.ipynb' class='btn btn-primary btn-lg'>Interactivity</a>\n",
    "<a href='4-Panels.ipynb' class='btn btn-primary btn-lg'>Panels</a>"
   ]
  },
  {
   "cell_type": "markdown",
   "metadata": {},
   "source": [
    "<font color='grey'><i>Copyright Anaconda 2012-2019 All Rights Reserved.</i></font>"
   ]
  }
 ],
 "metadata": {
  "kernelspec": {
   "display_name": "Python 3",
   "language": "python",
   "name": "python3"
  },
  "language_info": {
   "codemirror_mode": {
    "name": "ipython",
    "version": 3
   },
   "file_extension": ".py",
   "mimetype": "text/x-python",
   "name": "python",
   "nbconvert_exporter": "python",
   "pygments_lexer": "ipython3",
   "version": "3.7.4"
  }
 },
 "nbformat": 4,
 "nbformat_minor": 2
}
