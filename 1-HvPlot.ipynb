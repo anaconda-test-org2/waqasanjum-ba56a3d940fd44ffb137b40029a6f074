{
 "cells": [
  {
   "cell_type": "markdown",
   "metadata": {},
   "source": [
    "# HvPlot with Pandas"
   ]
  },
  {
   "cell_type": "markdown",
   "metadata": {},
   "source": [
    "<img src='img/hvplot-wm.png' width=10% align='right'>\n",
    "\n",
    "Pandas operations followed by `.hvplot()` is a powerful way to interact with your data.\n",
    "\n",
    "In this section we'll cover just a few basic plotting techniques. More will come later in this course."
   ]
  },
  {
   "cell_type": "markdown",
   "metadata": {},
   "source": [
    "# Table of Contents\n",
    "* [HvPlot with Pandas](#HvPlot-with-Pandas)\n",
    "* [Using HvPlot .hvplot()](#Using-HvPlot-.hvplot%28%29)\n",
    "\t* [Line plots](#Line-plots)\n",
    "\t\t* [Timeseries](#Timeseries)\n",
    "\t* [Overlays](#Overlays)\n",
    "\t* [Scatter](#Scatter)\n",
    "\t* [Box Plots](#Box-Plots)\n",
    "\t* [Histograms](#Histograms)\n",
    "\t* [2D Histograms](#2D-Histograms)\n",
    "\t* [Bar Charts](#Bar-Charts)\n",
    "    * [Geographic data](#Geographic-data)\n"
   ]
  },
  {
   "cell_type": "code",
   "execution_count": null,
   "metadata": {},
   "outputs": [],
   "source": [
    "import numpy as np\n",
    "import pandas as pd"
   ]
  },
  {
   "cell_type": "markdown",
   "metadata": {},
   "source": [
    "# Using HvPlot .hvplot()"
   ]
  },
  {
   "cell_type": "markdown",
   "metadata": {},
   "source": [
    "Pandas plotting with `.hvplot` is driven by Bokeh by default. Many plot options are set by default. Some plot styles perform statistical operations.\n",
    "\n",
    "There are several plot types available using the `.hvplot.<type>()` methods. See [hvplot documentation](https://hvplot.pyviz.org/index.html)."
   ]
  },
  {
   "cell_type": "code",
   "execution_count": null,
   "metadata": {},
   "outputs": [],
   "source": [
    "import hvplot.pandas"
   ]
  },
  {
   "cell_type": "markdown",
   "metadata": {},
   "source": [
    "## Line plots"
   ]
  },
  {
   "cell_type": "markdown",
   "metadata": {},
   "source": [
    "The default is to plot all columns at once. It can crowd the plot."
   ]
  },
  {
   "cell_type": "code",
   "execution_count": null,
   "metadata": {
    "scrolled": true
   },
   "outputs": [],
   "source": [
    "degrees = pd.read_csv('data/percent-bachelors-degrees-women-usa.csv', \n",
    "                      index_col='Year')\n",
    "degrees.hvplot()"
   ]
  },
  {
   "cell_type": "markdown",
   "metadata": {},
   "source": [
    "We can make a plot with a subset of the columns."
   ]
  },
  {
   "cell_type": "markdown",
   "metadata": {},
   "source": [
    "<div class='alert alert-info'>\n",
    "<img src='img/topics/Essential-Concept.png' align='left' style='padding:10x'>\n",
    "<br>\n",
    "    <big>Use <tt>width=</tt> and <tt>height=</tt> to adjust the width and height of the plot in pixels</big>\n",
    "<br><br>\n",
    "</div>"
   ]
  },
  {
   "cell_type": "code",
   "execution_count": null,
   "metadata": {},
   "outputs": [],
   "source": [
    "stem=['Computer Science', \n",
    "      'Math and Statistics', \n",
    "      'Engineering', \n",
    "      'Physical Sciences', \n",
    "      'Biology']\n",
    "degrees[stem].hvplot.line(width=900, height=400)"
   ]
  },
  {
   "cell_type": "markdown",
   "metadata": {},
   "source": [
    "### Timeseries"
   ]
  },
  {
   "cell_type": "markdown",
   "metadata": {},
   "source": [
    "Timeseries formatting is handled gracefully with Pandas."
   ]
  },
  {
   "cell_type": "markdown",
   "metadata": {},
   "source": [
    "<div class='alert alert-info'>\n",
    "<img src='img/topics/Essential-Concept.png' align='left' style='padding:10x'>\n",
    "<br>\n",
    "<big><tt>subplots=True</tt> works for any plot over more than one column of data</big>\n",
    "<br><br>\n",
    "</div>"
   ]
  },
  {
   "cell_type": "code",
   "execution_count": null,
   "metadata": {},
   "outputs": [],
   "source": [
    "aapl = pd.read_csv('data/AAPL.csv', parse_dates=True, index_col='Date')"
   ]
  },
  {
   "cell_type": "code",
   "execution_count": null,
   "metadata": {},
   "outputs": [],
   "source": [
    "(aapl\n",
    "     .loc['jan 2007', ['Close','Volume']]\n",
    "     .hvplot.line(subplots=True, shared_axes=False)\n",
    "     .cols(1)\n",
    ")"
   ]
  },
  {
   "cell_type": "markdown",
   "metadata": {},
   "source": [
    "## Overlays"
   ]
  },
  {
   "cell_type": "markdown",
   "metadata": {},
   "source": [
    "<div class='alert alert-info'>\n",
    "<img src='img/topics/Essential-Concept.png' align='left' style='padding:10x'>\n",
    "<br>\n",
    "<big>Use the <tt>*</tt> operator to overlay two separate calls to <tt>.hvplot</tt>.\n",
    "<br><br>\n",
    "</div>"
   ]
  },
  {
   "cell_type": "code",
   "execution_count": null,
   "metadata": {},
   "outputs": [],
   "source": [
    "goog = pd.read_csv('data/goog.csv', parse_dates=True, index_col='Date')\n",
    "\n",
    "goog_returns = goog.loc['2010':'2010', 'Close'].pct_change()\n",
    "aapl_returns = aapl.loc['2010':'2010', 'Close'].pct_change()"
   ]
  },
  {
   "cell_type": "markdown",
   "metadata": {},
   "source": [
    "`legend=True` ensures that labels are printed."
   ]
  },
  {
   "cell_type": "code",
   "execution_count": null,
   "metadata": {},
   "outputs": [],
   "source": [
    "goog_plot = goog_returns.hvplot.line(label='GOOG', legend=True)\n",
    "aapl_plot = aapl_returns.hvplot.line(label='AAPL', legend=True)\n",
    "\n",
    "goog_plot * aapl_plot"
   ]
  },
  {
   "cell_type": "markdown",
   "metadata": {},
   "source": [
    "## Scatter"
   ]
  },
  {
   "cell_type": "markdown",
   "metadata": {},
   "source": [
    "Plot bivariate `x` and `y` data stored in columns."
   ]
  },
  {
   "cell_type": "code",
   "execution_count": null,
   "metadata": {},
   "outputs": [],
   "source": [
    "auto = pd.read_csv('data/auto-mpg.csv')\n",
    "\n",
    "auto.hvplot.scatter(x='hp', y='mpg')"
   ]
  },
  {
   "cell_type": "markdown",
   "metadata": {},
   "source": [
    "<div class='alert alert-info'>\n",
    "<img src='img/topics/Essential-Concept.png' align='left' style='padding:10x'>\n",
    "<br>\n",
    "<big>Scatter plots accept <tt>by=</tt>, to color each point by the value in the column and <tt>s=</tt> to change the size of each glyph.</big>\n",
    "<br><br>\n",
    "</div>\n",
    "\n",
    "By default all plotted columns appear in the hover tool. Use `hover_cols=` to add more columns.\n",
    "\n",
    "\n",
    "`padding=` helps move points away from the edges of the plot."
   ]
  },
  {
   "cell_type": "code",
   "execution_count": null,
   "metadata": {},
   "outputs": [],
   "source": [
    "auto.hvplot.scatter(x='hp', y='mpg', by='origin',\n",
    "                    hover_cols=['origin','name','cyl'],\n",
    "                    s=auto['weight']**2 / 100000,\n",
    "                    width=900, padding=0.05)"
   ]
  },
  {
   "cell_type": "markdown",
   "metadata": {},
   "source": [
    "## Box Plots"
   ]
  },
  {
   "cell_type": "markdown",
   "metadata": {},
   "source": [
    "Box Plots provide a quick statistical overview of column data."
   ]
  },
  {
   "cell_type": "markdown",
   "metadata": {},
   "source": [
    "<div class='alert alert-info'>\n",
    "<img src='img/topics/Essential-Concept.png' align='left' style='padding:10x'>\n",
    "<br>\n",
    "<big><tt>.box()</tt> supports grouping</big>\n",
    "<br><br>\n",
    "</div>"
   ]
  },
  {
   "cell_type": "code",
   "execution_count": null,
   "metadata": {},
   "outputs": [],
   "source": [
    "auto.hvplot.box('mpg', by='origin')"
   ]
  },
  {
   "cell_type": "markdown",
   "metadata": {},
   "source": [
    "## Histograms"
   ]
  },
  {
   "cell_type": "code",
   "execution_count": null,
   "metadata": {},
   "outputs": [],
   "source": [
    "pit = pd.read_csv('data/pittsburgh2013.csv', \n",
    "                  parse_dates=['Date'], \n",
    "                  index_col='Date')"
   ]
  },
  {
   "cell_type": "code",
   "execution_count": null,
   "metadata": {},
   "outputs": [],
   "source": [
    "pit['Max TemperatureF'].hvplot.hist()"
   ]
  },
  {
   "cell_type": "code",
   "execution_count": null,
   "metadata": {},
   "outputs": [],
   "source": [
    "pit['Max TemperatureF'].hvplot.hist(bins=100)"
   ]
  },
  {
   "cell_type": "markdown",
   "metadata": {},
   "source": [
    "The Kernel Density Plot is closely related to a histogram."
   ]
  },
  {
   "cell_type": "code",
   "execution_count": null,
   "metadata": {},
   "outputs": [],
   "source": [
    "pit['Max TemperatureF'].hvplot.kde()"
   ]
  },
  {
   "cell_type": "markdown",
   "metadata": {},
   "source": [
    "<div class='alert alert-info'>\n",
    "<img src='img/topics/Essential-Concept.png' align='left' style='padding:10x'>\n",
    "<br>\n",
    "    <big>Plots options can be changed with <tt>.opts()</tt>\n",
    "<br><br>\n",
    "</div>\n",
    "\n",
    "See the [Holoviews Customization documentation](http://holoviews.org/user_guide/Applying_Customizations.html) for more options.\n",
    "\n",
    "To overlay the two it's best to start with two plot objects."
   ]
  },
  {
   "cell_type": "code",
   "execution_count": null,
   "metadata": {},
   "outputs": [],
   "source": [
    "hist = pit['Max TemperatureF'].hvplot.hist(normed=True)\n",
    "kde = pit['Max TemperatureF'].hvplot.kde().opts(bandwidth=0.15)\n",
    "\n",
    "overlay = hist * kde.opts(fill_color=None, line_color='red', line_width=5, line_alpha=0.8)\n",
    "overlay"
   ]
  },
  {
   "cell_type": "markdown",
   "metadata": {},
   "source": [
    "## 2D Histograms"
   ]
  },
  {
   "cell_type": "markdown",
   "metadata": {},
   "source": [
    "2D histograms (also known as hexbins) have a reasonable default bin size and can be changed with `gridsize=`."
   ]
  },
  {
   "cell_type": "code",
   "execution_count": null,
   "metadata": {},
   "outputs": [],
   "source": [
    "auto.hvplot.hexbin(x='hp', y='mpg', gridsize=12)"
   ]
  },
  {
   "cell_type": "markdown",
   "metadata": {},
   "source": [
    "## Bar Charts"
   ]
  },
  {
   "cell_type": "markdown",
   "metadata": {},
   "source": [
    "Bar charts can be constructed from one or more columns of numeric data. The important part is that the X-axis data must be in the Index."
   ]
  },
  {
   "cell_type": "code",
   "execution_count": null,
   "metadata": {},
   "outputs": [],
   "source": [
    "medals = pd.read_csv('data/medals.csv', index_col='name')\n",
    "medals.head()"
   ]
  },
  {
   "cell_type": "markdown",
   "metadata": {},
   "source": [
    "Pandas operations like pivot help prepare data for plotting."
   ]
  },
  {
   "cell_type": "code",
   "execution_count": null,
   "metadata": {},
   "outputs": [],
   "source": [
    "won = medals['count'] > 0\n",
    "\n",
    "to_plot = (medals\n",
    "           .loc[won]\n",
    "           .pivot(columns='medal', values='count')\n",
    "           [['bronze','silver','gold']]\n",
    ")\n",
    "\n",
    "(to_plot\n",
    " .assign(total=to_plot.sum(axis='columns'))\n",
    " .sort_values('total')\n",
    " .drop(columns='total')\n",
    " .hvplot.bar(stacked=True, rot=45, padding=0.02, cmap=['saddlebrown','silver','goldenrod'])\n",
    ")"
   ]
  },
  {
   "cell_type": "markdown",
   "metadata": {},
   "source": [
    "## Geographic data"
   ]
  },
  {
   "cell_type": "markdown",
   "metadata": {},
   "source": [
    "HvPlot utilizes [GeoViews](http://geoviews.org/index.html) and [GeoPandas](http://geopandas.org/) to support geographica plotting.\n",
    "\n",
    "The file `state.json` contains a `POLYGON` entry for each state indicating its borders. The `water_percent` column indicates the amount of the state's area that is taken up by water."
   ]
  },
  {
   "cell_type": "code",
   "execution_count": null,
   "metadata": {},
   "outputs": [],
   "source": [
    "import geopandas as gpd\n",
    "states = gpd.read_file('data/state.json')\n",
    "\n",
    "states['water_percent'] = states['AWATER'] / (states['ALAND'] + states['AWATER']) * 100\n",
    "\n",
    "states.head()"
   ]
  },
  {
   "cell_type": "markdown",
   "metadata": {},
   "source": [
    "Projections are changed with fucntions provided by [cartopy](https://scitools.org.uk/cartopy/docs/latest/)."
   ]
  },
  {
   "cell_type": "code",
   "execution_count": null,
   "metadata": {},
   "outputs": [],
   "source": [
    "from cartopy import crs\n",
    "\n",
    "states.hvplot.polygons(c='water_percent', colorbar=True,\n",
    "                       projection=crs.Orthographic(-100, 30))"
   ]
  },
  {
   "cell_type": "markdown",
   "metadata": {},
   "source": [
    "GeoViews also supports plotting by Latitude and Longitude. The `airports.csv` file contains information on airports in the US."
   ]
  },
  {
   "cell_type": "code",
   "execution_count": null,
   "metadata": {},
   "outputs": [],
   "source": [
    "airports = pd.read_csv('data/airports.csv')\n",
    "\n",
    "borders = states[['geometry']].hvplot.polygons(color='white', project=True)\n",
    "\n",
    "airport_plot = airports.hvplot.points('Longitude', 'Latitude', geo=True,\n",
    "                                      hover_cols=['Name', 'IATA'],\n",
    "                                      alpha=0.2, height=500,\n",
    "                                      project=True)\n",
    "\n",
    "(\n",
    "  (borders * airport_plot)\n",
    "   .opts(projection=crs.PlateCarree(), xlim=(-130, -65), ylim=(20, 55))\n",
    ")"
   ]
  },
  {
   "cell_type": "markdown",
   "metadata": {},
   "source": [
    "If you have an internet connection Geoviews provides access to [tile sources](http://geoviews.org/user_guide/Working_with_Bokeh.html) to enable overlays with map providers."
   ]
  },
  {
   "cell_type": "code",
   "execution_count": null,
   "metadata": {},
   "outputs": [],
   "source": [
    "# import geoviews.tile_sources as gts\n",
    "\n",
    "# (gts.StamenTerrain * airport_plot.opts(color='red'))"
   ]
  },
  {
   "cell_type": "markdown",
   "metadata": {},
   "source": [
    "<font color='grey'><i>Copyright Anaconda 2012-2019 All Rights Reserved.</i></font>"
   ]
  }
 ],
 "metadata": {
  "kernelspec": {
   "display_name": "Python 3",
   "language": "python",
   "name": "python3"
  },
  "language_info": {
   "codemirror_mode": {
    "name": "ipython",
    "version": 3
   },
   "file_extension": ".py",
   "mimetype": "text/x-python",
   "name": "python",
   "nbconvert_exporter": "python",
   "pygments_lexer": "ipython3",
   "version": "3.7.4"
  }
 },
 "nbformat": 4,
 "nbformat_minor": 2
}
