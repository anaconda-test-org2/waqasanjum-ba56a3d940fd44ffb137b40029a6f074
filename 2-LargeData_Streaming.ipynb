{
 "cells": [
  {
   "cell_type": "markdown",
   "metadata": {},
   "source": [
    "# Table of Contents\n",
    "* [Large data](#Large-data)\n",
    "\t* [Datashader](#Datashader)\n",
    "\t* [Aggregators](#Aggregators)\n",
    "* [Streaming](#Streaming)\n",
    "\t* [DataFrames](#DataFrames)\n",
    "\t* [Plotting](#Plotting)\n"
   ]
  },
  {
   "cell_type": "markdown",
   "metadata": {},
   "source": [
    "# Large data"
   ]
  },
  {
   "cell_type": "markdown",
   "metadata": {},
   "source": [
    "[Dask](dask.org) enables computation on data sets that are larger than memory, called *out-of-core* processing."
   ]
  },
  {
   "cell_type": "code",
   "execution_count": null,
   "metadata": {},
   "outputs": [],
   "source": [
    "import warnings\n",
    "warnings.filterwarnings(\"ignore\")"
   ]
  },
  {
   "cell_type": "code",
   "execution_count": null,
   "metadata": {},
   "outputs": [],
   "source": [
    "import dask.dataframe as dd\n",
    "\n",
    "taxi = dd.read_parquet('data/nyc_taxi_50k.parq', engine='fastparquet')\n",
    "taxi.info()"
   ]
  },
  {
   "cell_type": "code",
   "execution_count": null,
   "metadata": {
    "scrolled": true
   },
   "outputs": [],
   "source": [
    "taxi.head()"
   ]
  },
  {
   "cell_type": "markdown",
   "metadata": {},
   "source": [
    "## Datashader"
   ]
  },
  {
   "cell_type": "markdown",
   "metadata": {},
   "source": [
    "<img src='img/datashader_logo.png' width=10% align='right'>\n",
    "\n",
    "<img src='img/datashader_pipeline.png' width=70% align='left'>"
   ]
  },
  {
   "cell_type": "markdown",
   "metadata": {},
   "source": [
    "* Tools like Bokeh map Data (left) directly into an HTML/JavaScript Plot (right)\n",
    "* datashader instead renders Data into a plot-sized Aggregate array, from which an Image can be constructed then embedded into a Bokeh Plot\n",
    "* Only the fixed-sized Image needs to be sent to the browser, allowing millions or billions of datapoints to be used\n",
    "* Every step automatically adjusts to the data, but can be customized\n",
    "\n",
    "*When not to use datashader*\n",
    "\n",
    "* Plotting less than 1e5 or 1e6 data points\n",
    "* When every datapoint must be resolveable individually; standard Bokeh will render all of them\n",
    "* For full interactivity (hover tools) with every datapoint\n",
    "\n",
    "*When to use datashader*\n",
    "\n",
    "* Actual big data; when Bokeh/Matplotlib have trouble\n",
    "* When the distribution matters more than individual points\n",
    "* When you find yourself sampling, decimating, or binning to better understand the distribution"
   ]
  },
  {
   "cell_type": "code",
   "execution_count": null,
   "metadata": {},
   "outputs": [],
   "source": [
    "import hvplot.dask\n",
    "\n",
    "taxi.hvplot.scatter(x='pickup_x', y='pickup_y', datashade=True)"
   ]
  },
  {
   "cell_type": "markdown",
   "metadata": {},
   "source": [
    "## Aggregators"
   ]
  },
  {
   "cell_type": "code",
   "execution_count": null,
   "metadata": {},
   "outputs": [],
   "source": [
    "import datashader as ds\n",
    "\n",
    "clean = taxi.loc[taxi['fare_amount']> 0]\n",
    "clean['tip_fraction'] = clean['tip_amount'] / clean['fare_amount']\n",
    "\n",
    "clean.hvplot.scatter(x='dropoff_x', y='dropoff_y', c='tip_fraction',\n",
    "                     datashade=True,\n",
    "                     aggregator=ds.mean('tip_fraction'),\n",
    "                     cmap='bmy')"
   ]
  },
  {
   "cell_type": "markdown",
   "metadata": {},
   "source": [
    "# Streaming"
   ]
  },
  {
   "cell_type": "markdown",
   "metadata": {},
   "source": [
    "<a href='./data/stream-ae5.ipynb' class='btn btn-primary btn-lg'>Run the notebook at this link and leave it running</a>"
   ]
  },
  {
   "cell_type": "markdown",
   "metadata": {},
   "source": [
    "<img src='img/sequence.png'>\n",
    "\n",
    "The [Streamz](https://streamz.readthedocs.io/en/latest/index.html) enables continuous streams of data from a variety of sources to be built into processing pipelines.\n",
    "\n",
    "Optionally, Streamz can also work with Pandas dataframes to provide sensible streaming operations on continuous tabular data."
   ]
  },
  {
   "cell_type": "markdown",
   "metadata": {},
   "source": [
    "Data is being streamed into the `tmp/taxi` directory every few seconds as new files."
   ]
  },
  {
   "cell_type": "code",
   "execution_count": null,
   "metadata": {
    "scrolled": false
   },
   "outputs": [],
   "source": [
    "!ls tmp/taxi"
   ]
  },
  {
   "cell_type": "markdown",
   "metadata": {},
   "source": [
    "The `filenames()` method polls for new files according to the glob every second."
   ]
  },
  {
   "cell_type": "code",
   "execution_count": null,
   "metadata": {},
   "outputs": [],
   "source": [
    "from streamz import Stream\n",
    "\n",
    "stream = Stream()\n",
    "f = stream.filenames('tmp/taxi/*.csv', poll_interval=1, start=True)"
   ]
  },
  {
   "cell_type": "markdown",
   "metadata": {},
   "source": [
    "## DataFrames"
   ]
  },
  {
   "cell_type": "markdown",
   "metadata": {},
   "source": [
    "The streamed data is mapped to a Pandas DataFrame and then converted to a Streamz DataFrame called `sdf` with `to_dataframe()`."
   ]
  },
  {
   "cell_type": "code",
   "execution_count": null,
   "metadata": {},
   "outputs": [],
   "source": [
    "import pandas as pd\n",
    "example = pd.read_csv('tmp/taxi/0.csv', parse_dates=['tpep_pickup_datetime', 'tpep_dropoff_datetime'])\n",
    "\n",
    "sdf = (f\n",
    "       .map(pd.read_csv, parse_dates=['tpep_pickup_datetime', 'tpep_dropoff_datetime'])\n",
    "       .to_dataframe(example)\n",
    "      )"
   ]
  },
  {
   "cell_type": "markdown",
   "metadata": {},
   "source": [
    "Streamz DataFrames support many of the same operations as regular DataFrames and through ipywidgets the value is updated continuously as new data arrives from the stream.\n",
    "\n",
    "Note that only the most recent file is being processed and displayed."
   ]
  },
  {
   "cell_type": "code",
   "execution_count": null,
   "metadata": {},
   "outputs": [],
   "source": [
    "sdf['fare_amount'].mean()"
   ]
  },
  {
   "cell_type": "markdown",
   "metadata": {},
   "source": [
    "## Plotting"
   ]
  },
  {
   "cell_type": "markdown",
   "metadata": {},
   "source": [
    "HvPlot can plot directly from a Streamz DataFrame. Here the values are being cached in the plot so that more points appear every few seconds."
   ]
  },
  {
   "cell_type": "code",
   "execution_count": null,
   "metadata": {},
   "outputs": [],
   "source": [
    "import hvplot.streamz\n",
    "from bokeh.palettes import Category10_7\n",
    "\n",
    "scatter = sdf.hvplot.scatter(x='fare_amount', y='trip_distance', c='passenger_count',\n",
    "                             hover_cols=['passenger_count', 'tip_amount'],\n",
    "                             cmap=Category10_7, padding=0.1)\n",
    "scatter"
   ]
  },
  {
   "cell_type": "markdown",
   "metadata": {},
   "source": [
    "Here we'll mix Pandas processing and plotting."
   ]
  },
  {
   "cell_type": "code",
   "execution_count": null,
   "metadata": {},
   "outputs": [],
   "source": [
    "sdf['diff'] = (sdf['tpep_dropoff_datetime'] - sdf['tpep_pickup_datetime'])\n",
    "sdf['duration'] = sdf['diff'].map(lambda x:x.total_seconds() / 60)\n",
    "\n",
    "bar = (sdf\n",
    "       .groupby('passenger_count')['duration'].mean()\n",
    "       .hvplot.bar(padding=0.1)\n",
    "      )\n",
    "\n",
    "scatter.opts(width=450) + bar.opts(width=450)"
   ]
  },
  {
   "cell_type": "markdown",
   "metadata": {},
   "source": [
    "To terminate listening for new data call `.stop()` on the original stream."
   ]
  },
  {
   "cell_type": "code",
   "execution_count": null,
   "metadata": {},
   "outputs": [],
   "source": [
    "f.stop()"
   ]
  },
  {
   "cell_type": "markdown",
   "metadata": {},
   "source": [
    "<font color='grey'><i>Copyright Anaconda 2012-2019 All Rights Reserved.</i></font>"
   ]
  }
 ],
 "metadata": {
  "kernelspec": {
   "display_name": "Python 3",
   "language": "python",
   "name": "python3"
  },
  "language_info": {
   "codemirror_mode": {
    "name": "ipython",
    "version": 3
   },
   "file_extension": ".py",
   "mimetype": "text/x-python",
   "name": "python",
   "nbconvert_exporter": "python",
   "pygments_lexer": "ipython3",
   "version": "3.7.4"
  }
 },
 "nbformat": 4,
 "nbformat_minor": 2
}
